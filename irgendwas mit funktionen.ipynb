{
 "cells": [
  {
   "cell_type": "code",
   "execution_count": 1,
   "id": "3fca9106",
   "metadata": {},
   "outputs": [],
   "source": [
    "dirty_isbns = [\n",
    "    \" ISBN 978-3-518-58773-7 \", \n",
    "    \"ISBN___978-1491946008 \",\n",
    "    \"ISBN 978-1593276034\"]"
   ]
  },
  {
   "cell_type": "code",
   "execution_count": 2,
   "id": "6e396507",
   "metadata": {},
   "outputs": [
    {
     "name": "stdout",
     "output_type": "stream",
     "text": [
      " ISBN 978-3-518-58773-7 \n"
     ]
    }
   ],
   "source": [
    "def clean_isbn():\n",
    "    isbn = \" ISBN 978-3-518-58773-7 \"\n",
    "    print(isbn)\n",
    "clean_isbn()"
   ]
  },
  {
   "cell_type": "code",
   "execution_count": 3,
   "id": "ef3596a6",
   "metadata": {},
   "outputs": [
    {
     "name": "stdout",
     "output_type": "stream",
     "text": [
      "978-3-518-58773-7\n"
     ]
    }
   ],
   "source": [
    "def clean_isbn():\n",
    "    isbn = \" ISBN 978-3-518-58773-7 \"\n",
    "    isbn = isbn.replace(\"ISBN\", \"\")\n",
    "    isbn = isbn.strip()\n",
    "    print(isbn)\n",
    "clean_isbn()"
   ]
  },
  {
   "cell_type": "code",
   "execution_count": 8,
   "id": "c774d199",
   "metadata": {},
   "outputs": [],
   "source": [
    "def clean_isbn(isbn):\n",
    "    isbn = isbn.replace(\"ISBN\", \"\")\n",
    "    isbn = isbn.replace(\"_\", \"\")\n",
    "    isbn = isbn.strip()\n",
    "    return isbn\n",
    "clean_isbn = clean_isbn(isbn = \" ISBN 978-3-518-58773-7 \")\n",
    "\n",
    "# input einer funktion ist die funktion. \n",
    "# warum die isbn daten am ende stehen, weiss ich nicht"
   ]
  },
  {
   "cell_type": "code",
   "execution_count": null,
   "id": "5092897a",
   "metadata": {},
   "outputs": [],
   "source": []
  }
 ],
 "metadata": {
  "kernelspec": {
   "display_name": "Python 3 (ipykernel)",
   "language": "python",
   "name": "python3"
  },
  "language_info": {
   "codemirror_mode": {
    "name": "ipython",
    "version": 3
   },
   "file_extension": ".py",
   "mimetype": "text/x-python",
   "name": "python",
   "nbconvert_exporter": "python",
   "pygments_lexer": "ipython3",
   "version": "3.9.7"
  }
 },
 "nbformat": 4,
 "nbformat_minor": 5
}
